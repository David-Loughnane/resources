{
 "cells": [
  {
   "cell_type": "markdown",
   "metadata": {
    "toc": "true"
   },
   "source": [
    "# Table of Contents\n",
    " <p><div class=\"lev1 toc-item\"><a href=\"#Practice-Problems\" data-toc-modified-id=\"Practice-Problems-1\"><span class=\"toc-item-num\">1&nbsp;&nbsp;</span>Practice Problems</a></div><div class=\"lev2 toc-item\"><a href=\"#2E1.\" data-toc-modified-id=\"2E1.-11\"><span class=\"toc-item-num\">1.1&nbsp;&nbsp;</span>2E1.</a></div><div class=\"lev2 toc-item\"><a href=\"#2E2.\" data-toc-modified-id=\"2E2.-12\"><span class=\"toc-item-num\">1.2&nbsp;&nbsp;</span>2E2.</a></div><div class=\"lev2 toc-item\"><a href=\"#2E3.\" data-toc-modified-id=\"2E3.-13\"><span class=\"toc-item-num\">1.3&nbsp;&nbsp;</span>2E3.</a></div><div class=\"lev2 toc-item\"><a href=\"#2E4.\" data-toc-modified-id=\"2E4.-14\"><span class=\"toc-item-num\">1.4&nbsp;&nbsp;</span>2E4.</a></div><div class=\"lev2 toc-item\"><a href=\"#2M1.\" data-toc-modified-id=\"2M1.-15\"><span class=\"toc-item-num\">1.5&nbsp;&nbsp;</span>2M1.</a></div><div class=\"lev2 toc-item\"><a href=\"#2M2.\" data-toc-modified-id=\"2M2.-16\"><span class=\"toc-item-num\">1.6&nbsp;&nbsp;</span>2M2.</a></div><div class=\"lev2 toc-item\"><a href=\"#2M3.\" data-toc-modified-id=\"2M3.-17\"><span class=\"toc-item-num\">1.7&nbsp;&nbsp;</span>2M3.</a></div><div class=\"lev2 toc-item\"><a href=\"#2M4.\" data-toc-modified-id=\"2M4.-18\"><span class=\"toc-item-num\">1.8&nbsp;&nbsp;</span>2M4.</a></div><div class=\"lev2 toc-item\"><a href=\"#2M5.\" data-toc-modified-id=\"2M5.-19\"><span class=\"toc-item-num\">1.9&nbsp;&nbsp;</span>2M5.</a></div><div class=\"lev2 toc-item\"><a href=\"#2M6.\" data-toc-modified-id=\"2M6.-110\"><span class=\"toc-item-num\">1.10&nbsp;&nbsp;</span>2M6.</a></div><div class=\"lev2 toc-item\"><a href=\"#2M7.\" data-toc-modified-id=\"2M7.-111\"><span class=\"toc-item-num\">1.11&nbsp;&nbsp;</span>2M7.</a></div><div class=\"lev2 toc-item\"><a href=\"#2H1.\" data-toc-modified-id=\"2H1.-112\"><span class=\"toc-item-num\">1.12&nbsp;&nbsp;</span>2H1.</a></div><div class=\"lev2 toc-item\"><a href=\"#2H2.\" data-toc-modified-id=\"2H2.-113\"><span class=\"toc-item-num\">1.13&nbsp;&nbsp;</span>2H2.</a></div><div class=\"lev2 toc-item\"><a href=\"#2H3.\" data-toc-modified-id=\"2H3.-114\"><span class=\"toc-item-num\">1.14&nbsp;&nbsp;</span>2H3.</a></div><div class=\"lev2 toc-item\"><a href=\"#2H4.\" data-toc-modified-id=\"2H4.-115\"><span class=\"toc-item-num\">1.15&nbsp;&nbsp;</span>2H4.</a></div>"
   ]
  },
  {
   "cell_type": "markdown",
   "metadata": {},
   "source": [
    "## Import Statements"
   ]
  },
  {
   "cell_type": "code",
   "execution_count": 1,
   "metadata": {},
   "outputs": [],
   "source": [
    "import pymc3 as pm\n",
    "import numpy as np\n",
    "import scipy.stats as stats\n",
    "import matplotlib.pyplot as plt"
   ]
  },
  {
   "cell_type": "markdown",
   "metadata": {},
   "source": [
    "## Helper Functions"
   ]
  },
  {
   "cell_type": "code",
   "execution_count": 2,
   "metadata": {},
   "outputs": [],
   "source": [
    "def posterior_grid_approx(prior, success=6, tosses=9):\n",
    "    \"\"\"\n",
    "        This function helps calculate a grid approximation of the posterior distribution.\n",
    "        \n",
    "        Parameters:\n",
    "            prior: np.array\n",
    "                A distribution representing our state of knowledge before seeing the data.\n",
    "                Number of items should be the same as number of grid points.\n",
    "                \n",
    "            success: integer\n",
    "                Number of successes.\n",
    "            \n",
    "            tosses: integer\n",
    "                Number of tosses (i.e. successes + failures).\n",
    "                \n",
    "        Returns: \n",
    "            p_grid: np.array\n",
    "                Evenly-spaced out grid between 0 and 1.\n",
    "                \n",
    "            posterior: np.array\n",
    "                The posterior distribution.\n",
    "            \n",
    "    \"\"\"\n",
    "    # define grid\n",
    "    p_grid = np.linspace(0, 1, prior.shape[0])\n",
    "\n",
    "    # compute likelihood at each point in the grid\n",
    "    likelihood = stats.binom.pmf(success, tosses, p_grid)\n",
    "\n",
    "    # compute product of likelihood and prior\n",
    "    unstd_posterior = likelihood * prior\n",
    "\n",
    "    # standardize the posterior, so it sums to 1\n",
    "    posterior = unstd_posterior / unstd_posterior.sum()\n",
    "    return p_grid, posterior\n",
    "\n",
    "def grid_approx_plot(\n",
    "    w=6, \n",
    "    n=9,\n",
    "    prior=np.repeat(5,100),\n",
    "    x_label='probability of water'\n",
    "):\n",
    "    \"\"\"\n",
    "        This function helps calculate a grid approximation of the posterior distribution,\n",
    "        and then plots it.\n",
    "        \n",
    "        Parameters:\n",
    "            prior: np.array\n",
    "                A distribution representing our state of knowledge before seeing the data.\n",
    "                Number of items should be the same as number of grid points.\n",
    "                \n",
    "            w: integer\n",
    "                Number of successes.\n",
    "            \n",
    "            n: integer\n",
    "                Number of trials.\n",
    "            \n",
    "    \"\"\"\n",
    "    p_grid, posterior = posterior_grid_approx(\n",
    "        success=w,\n",
    "        tosses=n,\n",
    "        prior=prior\n",
    "    )\n",
    "    plt.plot(p_grid, posterior, 'o-', label='success = {}\\ntosses = {}'.format(w, n))\n",
    "    plt.xlabel(x_label)\n",
    "    plt.ylabel('posterior probability')\n",
    "#     plt.title('{} points'.format(points))\n",
    "    plt.legend(loc=0)\n",
    "    \n",
    "    return p_grid, posterior"
   ]
  },
  {
   "cell_type": "markdown",
   "metadata": {},
   "source": [
    "# Practice Problems"
   ]
  },
  {
   "cell_type": "markdown",
   "metadata": {},
   "source": [
    "## 2E1. \n",
    "\n",
    "Which of the expressions below correspond to the statement: _the probability of rain on Monday_?\n",
    "\n",
    "(1) $Pr(rain)$\n",
    "* Nope. This is the averaged probability of rain. \n",
    "\n",
    "(2) $Pr(rain\\mid Monday)$\n",
    "* Yes. Given that it is Monday, what is the probability of rain?\n",
    "\n",
    "(3) $Pr(Monday \\mid rain)$\n",
    "* No. This is the probability of being Monday given that it is raining.\n",
    "\n",
    "(4) $Pr(rain, Monday) / Pr(Monday)$\n",
    "* Yes. This is equivalent to the second option."
   ]
  },
  {
   "cell_type": "markdown",
   "metadata": {},
   "source": [
    "## 2E2. \n",
    "\n",
    "Which of the expressions below correspond to the expression: $Pr(Monday \\mid rain)$?\n",
    "\n",
    "(1) The probability of rain on Monday.\n",
    "* No. This is $Pr(rain \\mid Monday)$.\n",
    "    \n",
    "(2) The probability of rain, given that it is Monday.\n",
    "* No. This is $Pr(rain \\mid Monday)$.\n",
    "    \n",
    "(3) The probability that it is Monday, given that it is raining.\n",
    "* Yes. This is $Pr(Monday \\mid rain)$.\n",
    "\n",
    "(4) The probability that it is Monday and that it is raining.\n",
    "* No. This is $Pr(Monday, rain)$."
   ]
  },
  {
   "cell_type": "markdown",
   "metadata": {},
   "source": [
    "## 2E3. \n",
    "\n",
    "Which of the expressions below correspond to the statement:  _the probability that it is Monday, given that it is raining_?\n",
    "\n",
    "(1) $Pr(Monday \\mid rain)$\n",
    "* Yes. By definition.\n",
    "    \n",
    "(2) $Pr(rain \\mid Monday)$\n",
    "* No. This is probability of rain given that it is a Monday.\n",
    "    \n",
    "(3) $Pr(rain\\mid Monday)Pr(Monday)$\n",
    "* No. This is equivalent to $Pr(rain, Monday)$, or the probability that it is raining and it is Monday.\n",
    "\n",
    "(4) $Pr(rain\\mid Monday)Pr(Monday) / Pr(rain)$\n",
    "* This is equivalent to $Pr(rain, Monday) / Pr(rain)$, which then simplifies to $Pr(Monday \\mid rain)$. So yes.\n",
    "\n",
    "(5) $Pr(Monday \\mid rain)Pr(rain) / Pr(Monday)$\n",
    "* This simplifies to $Pr(Monday, rain) / Pr(Monday) = Pr(rain \\mid Monday)$, so nope."
   ]
  },
  {
   "cell_type": "markdown",
   "metadata": {},
   "source": [
    "## 2E4. \n",
    "\n",
    "The Bayesian statistician Bruno de Finetti (1906-1985) began his book on probability theory with the declaration: \"PROBABILITY DOES NOT EXIST.\" The capitals appeared in the original, so I imagine de Finetti wanted us to shout this statement. What he meant is that probabilty is a device for describing uncertainty from the perspective of an observer with limited knowledge; it has no objective reality. Discuss the globe tossing example from the chapter, in light of this statement. What does it mean to say \"the probability of water is 0.7?\"\n",
    "\n",
    "Ans:\n",
    "\n",
    "I think he meant that probability only exists in the \"small world.\" It represents a person's state of uncertainty on some aspect of the real world. For example, in the real world, water is objectively some proportion of the whole Earth. The true proportion of water in Earth is probably some precise number, for example: 0.712345678... However, when a Bayesian says that \"the probability of water is 0.7,\" this implies that this person _believes_ the ratio is about 0.7. The person is betting that the ratio is close to 0.7."
   ]
  },
  {
   "cell_type": "markdown",
   "metadata": {},
   "source": [
    "## 2M1.\n",
    "\n",
    "Recall the globe tossing model from the chapter. Compute and plot the grid approximate posterior distribution for each of the following sets of observations. In each case, assume a uniform prior _p_.\n",
    "\n",
    "(1) W,W,W"
   ]
  },
  {
   "cell_type": "code",
   "execution_count": 3,
   "metadata": {},
   "outputs": [
    {
     "data": {
      "image/png": "[encoded data removed]",
      "text/plain": [
       "<Figure size 432x288 with 1 Axes>"
      ]
     },
     "metadata": {
      "needs_background": "light"
     },
     "output_type": "display_data"
    }
   ],
   "source": [
    "_, _ = grid_approx_plot(n=3,w=3, prior=np.repeat(5,int(1e3)) )"
   ]
  },
  {
   "cell_type": "markdown",
   "metadata": {},
   "source": [
    "(2) W,W,W,L"
   ]
  },
  {
   "cell_type": "code",
   "execution_count": 4,
   "metadata": {
    "scrolled": true
   },
   "outputs": [
    {
     "data": {
      "image/png": "[encoded data removed]",
      "text/plain": [
       "<Figure size 432x288 with 1 Axes>"
      ]
     },
     "metadata": {
      "needs_background": "light"
     },
     "output_type": "display_data"
    }
   ],
   "source": [
    "_,_ = grid_approx_plot(n=4, w=3, prior=np.repeat(5,int(1e3)) )"
   ]
  },
  {
   "cell_type": "markdown",
   "metadata": {},
   "source": [
    "(3) L,W,W,L,W,W,W"
   ]
  },
  {
   "cell_type": "code",
   "execution_count": 5,
   "metadata": {
    "scrolled": true
   },
   "outputs": [
    {
     "data": {
      "image/png": "[encoded data removed]",
      "text/plain": [
       "<Figure size 432x288 with 1 Axes>"
      ]
     },
     "metadata": {
      "needs_background": "light"
     },
     "output_type": "display_data"
    }
   ],
   "source": [
    "_, _ = grid_approx_plot(n=7, w=5, prior=np.repeat(5,int(1e3)))"
   ]
  },
  {
   "cell_type": "markdown",
   "metadata": {},
   "source": [
    "## 2M2.\n",
    "\n",
    "Now assume a prior for _p_ that is equal to zero when $p < 0.5$ and is a positive constant when $p >= 0.5$. Again, compute and plot the grid approximate posterior distribution for each of the sets of observations in the problem just above."
   ]
  },
  {
   "cell_type": "code",
   "execution_count": 6,
   "metadata": {
    "scrolled": true
   },
   "outputs": [
    {
     "data": {
      "image/png": "[encoded data removed]",
      "text/plain": [
       "<Figure size 432x288 with 1 Axes>"
      ]
     },
     "metadata": {
      "needs_background": "light"
     },
     "output_type": "display_data"
    }
   ],
   "source": [
    "_, _ = grid_approx_plot(\n",
    "    n=7,\n",
    "    w=5,\n",
    "    prior=( np.linspace(0, 1, int(1e3)) >= 0.5).astype(int))"
   ]
  },
  {
   "cell_type": "markdown",
   "metadata": {},
   "source": [
    "## 2M3.\n",
    "\n",
    "Suppose there are two globes, one for Earth and one for Mars. The Earth globe is 70% covered in water. The Mars globe is 100% land. Further suppose that one of these globes--you don't know which--was tossed in the air and produced a \"land\" observation. Assume that each globe was equally likely to be tossed. Show that the posterior probability that the globe was the Earth, conditional on seeing \"land\" $Pr(\\text{Earth}\\mid\\text{land})$ is 0.23."
   ]
  },
  {
   "cell_type": "markdown",
   "metadata": {},
   "source": [
    "$Pr(\\text{water} \\mid \\text{Earth}) = 0.7$\n",
    "\n",
    "$Pr(\\text{land} \\mid \\text{Earth}) = 0.3$\n",
    "\n",
    "$Pr(\\text{Earth}) = 0.5$\n",
    "\n",
    "$Pr(\\text{land} \\mid \\text{Mars}) = 1.0$\n",
    "\n",
    "$Pr(\\text{Mars}) = 0.5$\n",
    "\n",
    "\\begin{equation}\n",
    "\\begin{aligned}\n",
    "    Pr(\\text{land}) &= Pr(\\text{land} \\mid \\text{Earth})Pr(\\text{Earth}) + Pr(\\text{land} \\mid \\text{Mars})Pr(\\text{Mars}) \\\\\n",
    "    &= 0.3 * 0.5 + 1.0 * 0.5 \\\\\n",
    "    &= 0.65\n",
    "\\end{aligned}\n",
    "\\end{equation}\n",
    "\n",
    "\n",
    "\\begin{equation}\n",
    "\\begin{aligned}\n",
    "    Pr(\\text{Earth} \\mid \\text{land}) &= \\frac{0.3 * 0.5}{0.65} \\\\\n",
    "    &= 0.23 \\\\\n",
    "\\end{aligned}\n",
    "\\end{equation}\n",
    "\n",
    "\n",
    "\n",
    "\n"
   ]
  },
  {
   "cell_type": "markdown",
   "metadata": {},
   "source": [
    "## 2M4.\n",
    "\n",
    "Suppose you have a deck with only three cards. Each card has two sides, and each side is either black or white. One card has two black sides. The second card has one black and one white side. The third card has two white sides. Now suppose all three cards are placed in a bag and shuffled. Someone reaches into the bag and pulls out a card and places it flat on a table. A black side is shown facing up, but you don't know the color of the side facing down. Show that the probability that the other side is also black is 2/3. Use the counting method (Section 2 of the chapter) to approach this problem. This means counting up the ways that each card could produce the observed data (a black side facing up on the table)."
   ]
  },
  {
   "cell_type": "markdown",
   "metadata": {},
   "source": [
    "Note: $B$ stands for black and $W$ stands for white. $B_1$ means that side 1 of a card is black. The left side is the side facing up (e.g. $B_2 \\mid B_1$ means that the second side is black and it is the one facing up, while the other side is also black).\n",
    "\n",
    "Here are the combinations:\n",
    "\n",
    "$B_1 \\mid B_2$ Black side is facing up and other side is black\n",
    "\n",
    "$B_2 \\mid B_1$ Black side is facing up and other side is black\n",
    "\n",
    "$B_1 \\mid W_2$ Black side is facing up, but other side is white.\n",
    "\n",
    "$W_2 \\mid B_1$ Not relevant, since white side up.\n",
    "\n",
    "$W_1 \\mid W_2$ Not relevant, since white side up.\n",
    "\n",
    "$W_2 \\mid W_1$ Not relevant, since white side up.\n",
    "\n",
    "There are three events consistent with \"Black side facing up,\" and only two of them are consistent with the the event \"other side is also black.\" Thus the probability that the other side is black, given that the known side is black is $2/3$."
   ]
  },
  {
   "cell_type": "markdown",
   "metadata": {},
   "source": [
    "## 2M5. \n",
    "\n",
    "Now suppose there are four cards: B/B, B/W, W/W, and another B/B. Again suppose a card is drawn from the bag and a black side appears face up. Again calculate the probability that the other side is black."
   ]
  },
  {
   "cell_type": "markdown",
   "metadata": {},
   "source": [
    "Previously:\n",
    "\n",
    "$B_1 \\mid B_2$ Black side is facing up and other side is black\n",
    "\n",
    "$B_2 \\mid B_1$ Black side is facing up and other side is black\n",
    "\n",
    "$B_1 \\mid W_2$ Black side is facing up, but other side is white.\n",
    "\n",
    "$W_2 \\mid B_1$ Not relevant, since white side up.\n",
    "\n",
    "$W_1 \\mid W_2$ Not relevant, since white side up.\n",
    "\n",
    "$W_2 \\mid W_1$ Not relevant, since white side up.\n",
    "\n",
    "New Data:\n",
    "\n",
    "$B_1 \\mid B_2$ Black side is facing up and other side is black\n",
    "\n",
    "$B_2 \\mid B_1$ Black side is facing up and other side is black\n",
    "\n",
    "There are now five events consistent with \"Black side facing up,\" and four of them are consistent with the the event \"other side is also black,\" so the probability of the other side being black, given that the side being shown is black is $4/5$."
   ]
  },
  {
   "cell_type": "markdown",
   "metadata": {},
   "source": [
    "## 2M6.\n",
    "\n",
    "Imagine that the black ink is heavy, and so cards with black sides are heavier than cards with white sides. As a result, it's less likely that a card with black sides is pulled from the bag. So again assume there are three cards: B/B, B/W, and W/W. After experimenting a number of times, you conclude that for every way to pull the B/B card from the bag there are 2 ways to pull the B/W card and 3 ways to pull the W/W card. Again suppose that a card is pulled and a black side appears face up. Show that the probability the other side is black is now 0.5. Use the counting method, as before."
   ]
  },
  {
   "cell_type": "markdown",
   "metadata": {},
   "source": [
    "A probabilistically equal statement to this is if we pretend to have the bag have one $B/B$ card, two $B/W$ and three $W/W$ card in the bag.\n",
    "\n",
    "$B/B$ gives us two ways of picking a black side up: $B_1 / B_2$ and $B_2 / B_1$.\n",
    "\n",
    "If we pick one of the $B/W$ cards, there is one way that a card has black side up: $B_1$. However, because picking up a $B/W$ is twice as likely as picking up a $B/B$, then there are $2\\times 1 = 2$ ways to get a card where we know that one side is black.\n",
    "\n",
    "There are $4$ total ways of picking a black card, but only half of them has black on the other side. Therefore the probability that the other side is black, given that a black side is face up, is 0.5."
   ]
  },
  {
   "cell_type": "markdown",
   "metadata": {},
   "source": [
    "## 2M7. \n",
    "\n",
    "Assume again the original card problem, with a single card showing a black side face up. Before looking at the other side, we draw another card from the bag and lay it face up on the table. The face that is shown on the new card is white. Show that the probability that the first card, the one showing a black side, has black on its other side is now 0.75. Use the counting method, if you can. Hint: Treat this like the sequence of globe tosses, counting all the ways to see each observation, for each possible first card."
   ]
  },
  {
   "cell_type": "markdown",
   "metadata": {},
   "source": [
    "$B_1 \\mid B_2$ -> $W_1 \\mid B_2$ Black on the other side.\n",
    "\n",
    "$B_1 \\mid B_2$ -> $W_1 \\mid W_2$ Black on the other side.\n",
    "\n",
    "$B_1 \\mid B_2$ -> $W_2 \\mid W_1$ Black on the other side.\n",
    "\n",
    "$B_2 \\mid B_1$ -> $W_1 \\mid B_2$ Black on the other side.\n",
    "\n",
    "$B_2 \\mid B_1$ -> $W_1 \\mid W_2$ Black on the other side.\n",
    "\n",
    "$B_2 \\mid B_1$ -> $W_2 \\mid W_1$ Black on the other side.\n",
    "\n",
    "$B_1 \\mid W_2$ -> $W_1 \\mid W_2$ Not black on the other side.\n",
    "\n",
    "$B_1 \\mid W_2$ -> $W_2 \\mid W_1$ Not black on the other side.\n",
    "\n",
    "Given that the second card has white face-up and the first card has black face-up, the probability that the first card's other side is black is 0.75.\n"
   ]
  },
  {
   "cell_type": "markdown",
   "metadata": {},
   "source": [
    "## 2H1. \n",
    "\n",
    "Suppose there are two species of panda bear. Both are equally common in the wild and live in the same places. They look exactly alike and eat the same food, and there is yet no genetic assay capable of telling them apart. They differ however in their family sizes. Species A gives birth to twins 10% of the time, otherwise birthing a single infant. Species B births twins 20% of the time, otherwise birthing singleton infants. Assume these numbers are known with certainty, from many years of field research.\n",
    "\n",
    "Now suppose you are managing a captive panda breeding program. You have a new female panda of unknown species, and she has just given birth to twins. What is the probability that her next birth will also be twins?"
   ]
  },
  {
   "cell_type": "markdown",
   "metadata": {},
   "source": [
    "Note: $C_1=2$ stands for twins during the first birthing event, $C_2=1$ stands for a singleton infant during the second birthing event. $S=a$ means that the species which gave birth was from Species A.\n",
    "\n",
    "$P(C_1=2 \\mid S=a) = 0.1$\n",
    "\n",
    "$P(C_1=1 \\mid S=a) = 0.9$\n",
    "\n",
    "$P(C_1=2 \\mid S=b) = 0.2$\n",
    "\n",
    "$P(C_1=1 \\mid S=b) = 0.8$\n",
    "\n",
    "$P(S=a) = 0.5$\n",
    "\n",
    "$P(S=b) = 0.5$\n",
    "\n",
    "$$\n",
    "\\begin{equation}\n",
    "    \\begin{aligned}\n",
    "        P(S=a \\mid C_1=2) &= \\frac{P(C_1=2 \\mid S=a)P(S=a)}{P(C_1=2)} \\\\\n",
    "        &= \\frac{0.05}{0.05+0.1} \\\\\n",
    "        &= \\frac{1}{3} \\\\\n",
    "    \\end{aligned}\n",
    "\\end{equation}\n",
    "$$\n",
    "\n",
    "$$\n",
    "\\begin{equation}\n",
    "    \\begin{aligned}\n",
    "        P(S=b \\mid C_1=2) &= 1 - P(S=a \\mid C_1=2) \\\\\n",
    "        &= \\frac{2}{3}\n",
    "    \\end{aligned}\n",
    "\\end{equation}\n",
    "$$\n",
    "\n",
    "$$\n",
    "\\begin{equation}\n",
    "    \\begin{aligned}\n",
    "        P(C_2=2 \\mid C_1=2) &= \\sum_S P(C_2=2, S, \\mid C_1=2) \\\\\n",
    "        &= P(C_2=2, S=a \\mid C_1=2) + P(C_2=2, S=b \\mid C_1=2) \\\\\n",
    "        &= P(C_2=2 \\mid S=a, C_1=2) \\cdot P(S=a \\mid C_1=2) \\\\ \n",
    "        &\\quad+ P(C_2=2 \\mid S=b, C_1=2) \\cdot P(S=b \\mid C_1=2) \\\\\n",
    "        &= P(C_2=2 \\mid S=a) \\cdot P(S=a \\mid C_1=2) \\\\\n",
    "        &\\quad+ P(C_2=2 \\mid S=b) \\cdot P(S=b \\mid C_1=2) & \\text{Conditional independence. See Note below}\\\\\n",
    "        &= \\frac{1}{10} \\times \\frac{1}{3} + \\frac{2}{10} \\times \\frac{2}{3} \\\\\n",
    "        &= \\frac{1}{30} + \\frac{4}{30} \\\\ \n",
    "        &= \\frac{1}{6}\n",
    "    \\end{aligned}\n",
    "\\end{equation}\n",
    "$$\n",
    "\n",
    "_Note_: The causal diagram implied here is the following:\n",
    "\n",
    "![Species influences Births at Time 1 and Time 2](./img/species-birthing.png)\n",
    "\n",
    "The causal diagram implies that if we already know the Species ($S$), then Birth at Time 1 ($C_1$) and Birth at Time 2 ($C_2$) are independent from each other. In mathematical notation:\n",
    "\n",
    "$$ C_2 \\mathrel{\\unicode{x2AEB} C_1 \\mid S}$$\n",
    "\n",
    "\n",
    "In other words, if we know the species, knowing about the birth at time 1 does not give us any more information about birth at time 2. Therefore, we have the license to remove $C_1$ from the conditioning section:\n",
    "\n",
    "$$\n",
    "\\begin{equation}\n",
    "    \\begin{aligned}\n",
    "         P(C_2=2 \\mid S=a, C_1=2) &= P(C_2=2 \\mid S=a) \\\\\n",
    "         P(C_2=2 \\mid S=b, C_1=2) &= P(C_2=2 \\mid S=b) \\\\\n",
    "    \\end{aligned}\n",
    "\\end{equation}\n",
    "$$"
   ]
  },
  {
   "cell_type": "markdown",
   "metadata": {},
   "source": [
    "## 2H2. \n",
    "\n",
    "Recall all the facts from the problem above. Now compute the probability that the panda we have is from species A, assuming we have observed only the first birth and that it was twins."
   ]
  },
  {
   "cell_type": "markdown",
   "metadata": {},
   "source": [
    "$$\n",
    "\\begin{equation}\n",
    "    \\begin{aligned}\n",
    "        P(S=a \\mid C_1=2) &= \\frac{P(C_1=2 \\mid S=a)P(S=a)}{P(C_1=2)} \\\\\n",
    "        &= \\frac{0.05}{0.05+0.1} \\\\\n",
    "        &= \\frac{1}{3} \\\\\n",
    "    \\end{aligned}\n",
    "\\end{equation}\n",
    "$$"
   ]
  },
  {
   "cell_type": "markdown",
   "metadata": {},
   "source": [
    "## 2H3.\n",
    "\n",
    "Continuing on from the previous problem, suppose the same panda mother has a second birth and that it is not twins, but a singleton infant. Compute the posterior probability that this panda is species A."
   ]
  },
  {
   "cell_type": "markdown",
   "metadata": {},
   "source": [
    "$$\n",
    "\\begin{equation}\n",
    "    \\begin{aligned}\n",
    "        P(S=a \\mid C_2=1, C_1=2) &= \\frac{P(C_2=1, C_1=2 \\mid S=a)P(S=a)}{P(C_2=1, C_1=2)} \\\\\n",
    "        &= \\frac{P(C_2=1 \\mid S=a)P(C_1=2 \\mid S=a)P(S=a)}{P(C_2=1, C_1=2)} \\\\\n",
    "        &= \\frac{P(C_2=1 \\mid S=a)P(C_1=2 \\mid S=a)P(S=a)}{P(C_2=1 \\mid S=a)P(C_1=2 \\mid S=a)P(S=a) + P(C_2=1 \\mid S=b)P(C_1=2 \\mid S=b)P(S=b)} \\\\\n",
    "        &= \\frac{0.9 \\times 0.1 \\times 0.5}{0.9 \\times 0.1 \\times 0.5 + 0.8 \\times 0.2 \\times 0.5} \\\\\n",
    "        &= 0.36\n",
    "    \\end{aligned}\n",
    "\\end{equation}\n",
    "$$\n",
    "\n"
   ]
  },
  {
   "cell_type": "markdown",
   "metadata": {},
   "source": [
    "## 2H4.\n",
    "\n",
    "A common boast of Bayesian statisticians is that Bayesian inference makes it easy to use all the data, even if the data are of different types.\n",
    "\n",
    "So suppose now that a veterinarian comes along who has a new genetic test that she claims can identify the species of our mother panda. But the test, like all tests, is imperfect. This in the information you have about the test:\n",
    "\n",
    "* The probability it correctly identifies a species A panda is 0.8.\n",
    "* The probability it correctly identifies a species B panda is 0.65.\n",
    "\n",
    "The vet administers the test to your panda and tells you that the test is positive for species A. First ignore your previous information from the births and compute the posterior probability that your panda is species A. Then redo your calculation now using the birth data as well."
   ]
  },
  {
   "cell_type": "markdown",
   "metadata": {},
   "source": [
    "Let $T$ stand for the test result.\n",
    "\n",
    "$P(T=a \\mid S=a) = 0.8$\n",
    "\n",
    "$P(T=b \\mid S=b) = 0.65$, therefore: $P(T=a \\mid S=b) = 0.35$.\n",
    "\n",
    "Without birth data:\n",
    "\n",
    "$$\n",
    "\\begin{equation}\n",
    "    \\begin{aligned}\n",
    "        P(S=a \\mid T=a) &= \\frac{P(T=a \\mid S=a)P(S=a)}{P(T=a)} \\\\\n",
    "        &= \\frac{P(T=a \\mid S=a)P(S=a)}{P(T=a \\mid S=a)P(S=a) + P(T=a \\mid S=b)P(S=b)} \\\\\n",
    "        &= \\frac{0.8 \\times 0.5}{0.8 \\times 0.5 + 0.35 \\times 0.5} \\\\\n",
    "        &= \\frac{0.8}{1.15} \\\\\n",
    "        &\\approx 0.70\n",
    "    \\end{aligned}\n",
    "\\end{equation}\n",
    "$$\n",
    "\n",
    "With birth data:\n",
    "\n",
    "We use the posterior of the previous answer $P(S=a \\mid C_2=1, C_1=2) = 0.36$ as the new prior $P(S=a)$:\n",
    "\n",
    "$$\n",
    "\\begin{equation}\n",
    "    \\begin{aligned}\n",
    "        P(S=a \\mid T=a) &= \\frac{P(T=a \\mid S=a)P(S=a)}{P(T=a)} \\\\\n",
    "        &= \\frac{P(T=a \\mid S=a)P(S=a)}{P(T=a \\mid S=a)P(S=a) + P(T=a \\mid S=b)P(S=b)} \\\\\n",
    "        &= \\frac{0.8 \\times 0.36}{0.8 \\times 0.36 + 0.35 \\times 0.64} \\\\\n",
    "        &\\approx 0.56\n",
    "    \\end{aligned}\n",
    "\\end{equation}\n",
    "$$\n",
    "\n"
   ]
  }
 ],
 "metadata": {
  "kernelspec": {
   "display_name": "Python 3",
   "language": "python",
   "name": "python3"
  },
  "language_info": {
   "codemirror_mode": {
    "name": "ipython",
    "version": 3
   },
   "file_extension": ".py",
   "mimetype": "text/x-python",
   "name": "python",
   "nbconvert_exporter": "python",
   "pygments_lexer": "ipython3",
   "version": "3.7.5"
  },
  "toc": {
   "colors": {
    "hover_highlight": "#DAA520",
    "navigate_num": "#000000",
    "navigate_text": "#333333",
    "running_highlight": "#FF0000",
    "selected_highlight": "#FFD700",
    "sidebar_border": "#EEEEEE",
    "wrapper_background": "#FFFFFF"
   },
   "moveMenuLeft": true,
   "nav_menu": {
    "height": "364px",
    "width": "254px"
   },
   "navigate_menu": true,
   "number_sections": true,
   "sideBar": true,
   "threshold": "5",
   "toc_cell": true,
   "toc_section_display": "block",
   "toc_window_display": true,
   "widenNotebook": false
  }
 },
 "nbformat": 4,
 "nbformat_minor": 4
}
